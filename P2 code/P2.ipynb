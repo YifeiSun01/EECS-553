{
 "cells": [
  {
   "cell_type": "code",
   "execution_count": 1,
   "id": "7aa54486",
   "metadata": {},
   "outputs": [],
   "source": [
    "import numpy as np"
   ]
  },
  {
   "cell_type": "code",
   "execution_count": 2,
   "id": "947f8fea",
   "metadata": {},
   "outputs": [],
   "source": [
    "train_x = np.load(\"hw2p2_train_x.npy\")\n",
    "train_y = np.load(\"hw2p2_train_y.npy\")"
   ]
  },
  {
   "cell_type": "code",
   "execution_count": 3,
   "id": "cc867455",
   "metadata": {},
   "outputs": [
    {
     "data": {
      "text/plain": [
       "(1192, 1000)"
      ]
     },
     "execution_count": 3,
     "metadata": {},
     "output_type": "execute_result"
    }
   ],
   "source": [
    "train_x.shape"
   ]
  },
  {
   "cell_type": "code",
   "execution_count": 7,
   "id": "952e2b43",
   "metadata": {},
   "outputs": [
    {
     "data": {
      "text/plain": [
       "1192"
      ]
     },
     "execution_count": 7,
     "metadata": {},
     "output_type": "execute_result"
    }
   ],
   "source": [
    "train_x.shape[0]"
   ]
  },
  {
   "cell_type": "code",
   "execution_count": 4,
   "id": "e577ae88",
   "metadata": {},
   "outputs": [
    {
     "data": {
      "text/plain": [
       "dtype('int64')"
      ]
     },
     "execution_count": 4,
     "metadata": {},
     "output_type": "execute_result"
    }
   ],
   "source": [
    "train_x.dtype"
   ]
  },
  {
   "cell_type": "code",
   "execution_count": 5,
   "id": "73137b7f",
   "metadata": {},
   "outputs": [
    {
     "data": {
      "text/plain": [
       "(1192,)"
      ]
     },
     "execution_count": 5,
     "metadata": {},
     "output_type": "execute_result"
    }
   ],
   "source": [
    "train_y.shape"
   ]
  },
  {
   "cell_type": "code",
   "execution_count": 6,
   "id": "07c1a709",
   "metadata": {},
   "outputs": [
    {
     "data": {
      "text/plain": [
       "dtype('int64')"
      ]
     },
     "execution_count": 6,
     "metadata": {},
     "output_type": "execute_result"
    }
   ],
   "source": [
    "train_y.dtype"
   ]
  },
  {
   "cell_type": "code",
   "execution_count": 57,
   "id": "ad702ed3",
   "metadata": {},
   "outputs": [],
   "source": [
    "# (c)(i) Use the training data to estimate log pkj for each class k = 0, 1 and for each feature\n",
    "# j = 1, . . . , d.\n",
    "log_pkj = np.zeros([2, train_x.shape[1]])\n",
    "label_feature_words = np.zeros([2, train_x.shape[1]])\n",
    "for i in range(train_x.shape[0]):\n",
    "    for j in range(train_x.shape[1]):\n",
    "        feature_i_j = train_x[i,j]\n",
    "        label_i = train_y[i]\n",
    "        if label_i == 0:\n",
    "            label_feature_words[0,j] += feature_i_j\n",
    "        if label_i == 1:\n",
    "            label_feature_words[1,j] += feature_i_j\n",
    "label_total_words = [sum(label_feature_words[0]),sum(label_feature_words[1])]"
   ]
  },
  {
   "cell_type": "code",
   "execution_count": 58,
   "id": "daec4cc2",
   "metadata": {},
   "outputs": [],
   "source": [
    "for i in range(label_feature_words.shape[0]):\n",
    "    for j in range(label_feature_words.shape[1]):\n",
    "        log_pkj_value = np.log((label_feature_words[i,j]+1)/(label_total_words[i]+label_feature_words.shape[1]))\n",
    "        log_pkj[i,j] = log_pkj_value"
   ]
  },
  {
   "cell_type": "code",
   "execution_count": 59,
   "id": "01b02d11",
   "metadata": {},
   "outputs": [
    {
     "data": {
      "text/plain": [
       "array([[-6.05571894, -9.5522265 , -9.5522265 , ..., -8.85907932,\n",
       "        -9.5522265 , -8.85907932],\n",
       "       [-7.02447108, -7.71761826, -7.24761463, ..., -7.38114602,\n",
       "        -7.38114602, -6.55446745]])"
      ]
     },
     "execution_count": 59,
     "metadata": {},
     "output_type": "execute_result"
    }
   ],
   "source": [
    "log_pkj"
   ]
  },
  {
   "cell_type": "code",
   "execution_count": 44,
   "id": "512421aa",
   "metadata": {},
   "outputs": [
    {
     "data": {
      "text/plain": [
       "(2, 1000)"
      ]
     },
     "execution_count": 44,
     "metadata": {},
     "output_type": "execute_result"
    }
   ],
   "source": [
    "log_pkj.shape"
   ]
  },
  {
   "cell_type": "code",
   "execution_count": 60,
   "id": "fc84d742",
   "metadata": {},
   "outputs": [],
   "source": [
    "# (c)(ii) Also estimate the log-priors log πk for each class.\n",
    "label_total_number = [0,0]\n",
    "for i in range(train_y.shape[0]):\n",
    "    if train_y[i] == 0:\n",
    "        label_total_number[0] += 1\n",
    "    if train_y[i] == 1:\n",
    "        label_total_number[1] += 1\n",
    "log_πk = [np.log(label_total_number[0]/train_y.shape[0]),np.log(label_total_number[1]/train_y.shape[0])]"
   ]
  },
  {
   "cell_type": "code",
   "execution_count": 61,
   "id": "4c51cdc3",
   "metadata": {},
   "outputs": [
    {
     "data": {
      "text/plain": [
       "[-0.6965085282626502, -0.6897970936746632]"
      ]
     },
     "execution_count": 61,
     "metadata": {},
     "output_type": "execute_result"
    }
   ],
   "source": [
    "log_πk"
   ]
  },
  {
   "cell_type": "code",
   "execution_count": null,
   "id": "4eed4237",
   "metadata": {},
   "outputs": [],
   "source": []
  },
  {
   "cell_type": "code",
   "execution_count": 31,
   "id": "5347e989",
   "metadata": {},
   "outputs": [],
   "source": [
    "test_x = np.load(\"hw2p2_test_x.npy\")\n",
    "test_y = np.load(\"hw2p2_test_y.npy\")"
   ]
  },
  {
   "cell_type": "code",
   "execution_count": 36,
   "id": "fa34ecda",
   "metadata": {},
   "outputs": [
    {
     "data": {
      "text/plain": [
       "(794,)"
      ]
     },
     "execution_count": 36,
     "metadata": {},
     "output_type": "execute_result"
    }
   ],
   "source": [
    "test_y.shape"
   ]
  },
  {
   "cell_type": "code",
   "execution_count": 62,
   "id": "89b49470",
   "metadata": {},
   "outputs": [],
   "source": [
    "# （d）Use the estimates for log pkj and log πk to predict labels for the testing data. That is,\n",
    "# apply the decision rule with the samples in test x.npy and test y.npy. Report the\n",
    "# test error.\n",
    "\n",
    "pred_labels = []\n",
    "for i in range(test_x.shape[0]):\n",
    "    log_prob_class_0 = log_πk[0]\n",
    "    log_prob_class_1 = log_πk[1]\n",
    "    for j in range(test_x.shape[1]):\n",
    "        xj = test_x[i,j]\n",
    "        log_p0j_value = log_pkj[0,j]\n",
    "        log_p1j_value = log_pkj[1,j]\n",
    "        log_prob_class_0 += xj*log_p0j_value\n",
    "        log_prob_class_1 += xj*log_p1j_value\n",
    "    if log_prob_class_0 > log_prob_class_1:\n",
    "        pred_label = 0\n",
    "    else:\n",
    "        pred_label = 1\n",
    "    pred_labels.append(pred_label)"
   ]
  },
  {
   "cell_type": "code",
   "execution_count": 63,
   "id": "f14f0059",
   "metadata": {},
   "outputs": [
    {
     "data": {
      "text/plain": [
       "794"
      ]
     },
     "execution_count": 63,
     "metadata": {},
     "output_type": "execute_result"
    }
   ],
   "source": [
    "len(pred_labels)"
   ]
  },
  {
   "cell_type": "code",
   "execution_count": 64,
   "id": "c7a9c935",
   "metadata": {},
   "outputs": [
    {
     "data": {
      "text/plain": [
       "100"
      ]
     },
     "execution_count": 64,
     "metadata": {},
     "output_type": "execute_result"
    }
   ],
   "source": [
    "misclassified = 0\n",
    "for i in range(test_y.shape[0]):\n",
    "    if pred_labels[i] != test_y[i]:\n",
    "        misclassified += 1\n",
    "misclassified"
   ]
  },
  {
   "cell_type": "code",
   "execution_count": 65,
   "id": "67fb3a0b",
   "metadata": {},
   "outputs": [
    {
     "data": {
      "text/plain": [
       "0.12594458438287154"
      ]
     },
     "execution_count": 65,
     "metadata": {},
     "output_type": "execute_result"
    }
   ],
   "source": [
    "# The test error is 0.1259\n",
    "misclassified/test_x.shape[0]"
   ]
  },
  {
   "cell_type": "code",
   "execution_count": 39,
   "id": "dcb205bf",
   "metadata": {},
   "outputs": [
    {
     "data": {
      "text/plain": [
       "598"
      ]
     },
     "execution_count": 39,
     "metadata": {},
     "output_type": "execute_result"
    }
   ],
   "source": [
    "# (e) What would the test error be if we always predicted the same class, namely, the majority\n",
    "# class from the training data? (Use this result as a sanity check for the error in part (d))\n",
    "sum(train_y)\n",
    "# We can see that there are 598 training data with label 1 and 594 training data with label 0\n",
    "# label 1 is the majority class in the traing data"
   ]
  },
  {
   "cell_type": "code",
   "execution_count": 40,
   "id": "d21d5a61",
   "metadata": {},
   "outputs": [
    {
     "data": {
      "text/plain": [
       "594"
      ]
     },
     "execution_count": 40,
     "metadata": {},
     "output_type": "execute_result"
    }
   ],
   "source": [
    "train_x.shape[0]-sum(train_y)"
   ]
  },
  {
   "cell_type": "code",
   "execution_count": 41,
   "id": "83139c6d",
   "metadata": {},
   "outputs": [
    {
     "data": {
      "text/plain": [
       "398"
      ]
     },
     "execution_count": 41,
     "metadata": {},
     "output_type": "execute_result"
    }
   ],
   "source": [
    "sum(test_y)\n",
    "# We can see that there are 398 training data with label 1 and 396 training data with label 0"
   ]
  },
  {
   "cell_type": "code",
   "execution_count": 42,
   "id": "1b44f12e",
   "metadata": {},
   "outputs": [
    {
     "data": {
      "text/plain": [
       "396"
      ]
     },
     "execution_count": 42,
     "metadata": {},
     "output_type": "execute_result"
    }
   ],
   "source": [
    "test_x.shape[0]-sum(test_y)"
   ]
  },
  {
   "cell_type": "code",
   "execution_count": 43,
   "id": "78d96954",
   "metadata": {},
   "outputs": [
    {
     "data": {
      "text/plain": [
       "0.4987405541561713"
      ]
     },
     "execution_count": 43,
     "metadata": {},
     "output_type": "execute_result"
    }
   ],
   "source": [
    "# If we always predict class 1, the test error would be\n",
    "(test_x.shape[0]-sum(test_y))/test_x.shape[0]"
   ]
  },
  {
   "cell_type": "code",
   "execution_count": null,
   "id": "5c1eb7a8",
   "metadata": {},
   "outputs": [],
   "source": []
  }
 ],
 "metadata": {
  "kernelspec": {
   "display_name": "Python (tensorflowenv)",
   "language": "python",
   "name": "python3"
  },
  "language_info": {
   "codemirror_mode": {
    "name": "ipython",
    "version": 3
   },
   "file_extension": ".py",
   "mimetype": "text/x-python",
   "name": "python",
   "nbconvert_exporter": "python",
   "pygments_lexer": "ipython3",
   "version": "3.10.4"
  }
 },
 "nbformat": 4,
 "nbformat_minor": 5
}
